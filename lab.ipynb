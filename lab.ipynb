{
 "cells": [
  {
   "cell_type": "code",
   "execution_count": 333,
   "metadata": {},
   "outputs": [],
   "source": [
    "import glob\n",
    "import cv2\n",
    "import os\n",
    "import random\n",
    "import matplotlib.pyplot as plt\n",
    "import numpy as np\n",
    "import tensorflow as tf\n",
    "import math\n",
    "import shutil"
   ]
  },
  {
   "cell_type": "code",
   "execution_count": 4,
   "metadata": {},
   "outputs": [],
   "source": [
    "#Nothing to see here"
   ]
  },
  {
   "cell_type": "code",
   "execution_count": 58,
   "metadata": {},
   "outputs": [],
   "source": [
    "class generate:\n",
    "    def batch_1(img):\n",
    "        \"\"\" Requires uint8 image dtype\"\"\"\n",
    "        images_arrays = []\n",
    "        images_arrays.append(generate.rotation(img, -90))\n",
    "        images_arrays.append(generate.rotation(img, 90))\n",
    "        images_arrays.append( generate.vertical_flip(img))\n",
    "        images_arrays.append(generate.high_brightness(img))\n",
    "        images_arrays.append(generate.low_brightness(img))\n",
    "        images_arrays.append( generate.sharpen(img))\n",
    "\n",
    "        return images_arrays\n",
    "\n",
    "    \n",
    "    def rotation(image,angle):\n",
    "        height, width = image.shape[:2]\n",
    "        rotation_matrix = cv2.getRotationMatrix2D((width/2, height/2), angle, scale=1)\n",
    "        rotated_image = cv2.warpAffine(image,rotation_matrix,(width,height))\n",
    "        return rotated_image\n",
    "\n",
    " \n",
    "    def vertical_flip(image):\n",
    "        return cv2.flip(image,0)\n",
    "    \n",
    "    def high_brightness(image):\n",
    "        return cv2.add(image, np.ones(image.shape , dtype=np.uint8) * 40)\n",
    "\n",
    "    def low_brightness(image):\n",
    "        return cv2.subtract(image, np.ones(image.shape , dtype=np.uint8) * 40)\n",
    "        \n",
    "\n",
    "    def sharpen(image):\n",
    "        kernel = np.array([ [-1,-1,-1],\n",
    "                            [-1,10,-1],\n",
    "                            [-1,-1,-1] ])\n",
    "        return cv2.filter2D(image,-1,kernel)"
   ]
  },
  {
   "cell_type": "code",
   "execution_count": 276,
   "metadata": {},
   "outputs": [],
   "source": [
    "def fetch_imgs_path(path, class_encoding, equal_ratio_to_healthy, shuffle):\n",
    "    class_folders = os.listdir(path)\n",
    "    imgs_path_dict = {}\n",
    "    for class_folder in class_folders:\n",
    "        files = [path + class_folder + '/' + file for file in os.listdir(path + class_folder + '/')]\n",
    "        if shuffle == True:\n",
    "            random.shuffle(files)\n",
    "        imgs_path_dict[str(class_folder)] = files\n",
    "    if class_encoding == 'binary':\n",
    "        temp_dict = {'unhealthy':[], 'healthy':[]}\n",
    "        if equal_ratio_to_healthy == True:\n",
    "            ratio = int(len(imgs_path_dict['healthy']) / (len(class_folders) - 1))\n",
    "            for folder, img_files  in imgs_path_dict.items():\n",
    "                if folder == 'healthy':\n",
    "                    temp_dict['healthy'] = random.sample(imgs_path_dict[folder], len(imgs_path_dict['healthy']))\n",
    "                else:\n",
    "                    temp_dict['unhealthy'] = temp_dict['unhealthy'] + random.sample(imgs_path_dict[folder], ratio)\n",
    "        \n",
    "            imgs_path_dict = temp_dict   \n",
    "            \n",
    "        else:\n",
    "            for folder, img_files  in imgs_path_dict.items():\n",
    "                if folder == 'healthy':\n",
    "                    temp_dict['healthy'] = imgs_path_dict[folder]\n",
    "                else:\n",
    "                    temp_dict['unhealthy'] = temp_dict['unhealthy'] + imgs_path_dict[folder]\n",
    "            \n",
    "            imgs_path_dict = temp_dict\n",
    "            \n",
    "        \n",
    "    return imgs_path_dict"
   ]
  },
  {
   "cell_type": "code",
   "execution_count": 436,
   "metadata": {},
   "outputs": [],
   "source": [
    "b = [3,4,5,7,6]"
   ]
  },
  {
   "cell_type": "code",
   "execution_count": 433,
   "metadata": {},
   "outputs": [
    {
     "data": {
      "text/plain": [
       "[3, 4, 5, 7, 6]"
      ]
     },
     "execution_count": 433,
     "metadata": {},
     "output_type": "execute_result"
    }
   ],
   "source": [
    "b"
   ]
  },
  {
   "cell_type": "code",
   "execution_count": 444,
   "metadata": {},
   "outputs": [
    {
     "name": "stdout",
     "output_type": "stream",
     "text": [
      "5\n",
      "4\n",
      "3\n",
      "2\n",
      "1\n"
     ]
    }
   ],
   "source": [
    "b = [3,4,5,7,6]\n",
    "for item in range(len(b)):\n",
    "    print(len(b))\n",
    "    b.pop()   "
   ]
  },
  {
   "cell_type": "code",
   "execution_count": 601,
   "metadata": {},
   "outputs": [],
   "source": [
    "def save_generation(img_files, split, folder_path, class_folder, names, augment=1):\n",
    "    for img_file in img_files:\n",
    "        img = cv2.imread(img_file)\n",
    "        cv2.imwrite(folder_path + class_folder + '/' + str(names.pop()) + '.jpg', img)\n",
    "        if augment > 0:\n",
    "            if augment == 1:\n",
    "                img_array = generate.batch_1(img)\n",
    "                for generic_img in img_array:\n",
    "                    cv2.imwrite(folder_path + split + class_folder + '/' + str(names.pop()) + '.jpg', generic_img)\n",
    "        del img_file"
   ]
  },
  {
   "cell_type": "code",
   "execution_count": 623,
   "metadata": {},
   "outputs": [],
   "source": [
    "def visualise_tree(path):\n",
    "    tree = {}\n",
    "    for split in os.listdir(path):\n",
    "        tree[split] = {}\n",
    "        for class_folder in os.listdir(path + split + '/'):\n",
    "            imgs = os.listdir(path + split + '/' + class_folder + '/')\n",
    "            tree[split][class_folder] = {}\n",
    "            tree[split][class_folder]['original'] = int(len(imgs)/7) + 1\n",
    "            tree[split][class_folder]['generic'] = int(len(imgs)/7*6) - 1\n",
    "    \n",
    "    for split_folder, split_file in visualise_tree('temp/').items():\n",
    "    print(split_folder, 'folder')\n",
    "    for class_folder, class_files in split_file.items():\n",
    "        print(f'    |--class {class_folder}')\n",
    "        for ratio_id, ratio in  class_files.items():\n",
    "            print(f'          |--contains {ratio} {ratio_id} images')\n",
    "    return tree"
   ]
  },
  {
   "cell_type": "code",
   "execution_count": 636,
   "metadata": {},
   "outputs": [
    {
     "name": "stdout",
     "output_type": "stream",
     "text": [
      "test folder\n",
      "    |--class healthy\n",
      "          |--contains 1 original images\n",
      "          |--contains 4 generic images\n",
      "    |--class unhealthy\n",
      "          |--contains 1 original images\n",
      "          |--contains 4 generic images\n",
      "train folder\n",
      "    |--class healthy\n",
      "          |--contains 697 original images\n",
      "          |--contains 4180 generic images\n",
      "    |--class unhealthy\n",
      "          |--contains 1815 original images\n",
      "          |--contains 10886 generic images\n",
      "val folder\n",
      "    |--class healthy\n",
      "          |--contains 199 original images\n",
      "          |--contains 1192 generic images\n",
      "    |--class unhealthy\n",
      "          |--contains 519 original images\n",
      "          |--contains 3110 generic images\n"
     ]
    }
   ],
   "source": [
    "\n",
    "    "
   ]
  },
  {
   "cell_type": "code",
   "execution_count": 606,
   "metadata": {},
   "outputs": [],
   "source": [
    "def to_split_folder(folder_path, img_path_dict, ratio, augment):\n",
    "    folder_splits = ('train/', 'val/', 'test/')\n",
    "    try:\n",
    "        shutil.rmtree(folder_path)\n",
    "    except FileNotFoundError:\n",
    "        pass\n",
    "    os.mkdir(folder_path)\n",
    "        \n",
    "    for index, split in enumerate(ratio):\n",
    "        if sum(ratio) > 1:\n",
    "            print('Split Ratio is Invalid!')\n",
    "            break\n",
    "        os.mkdir(folder_path + folder_splits[index])\n",
    "        for folder in img_path_dict.keys():\n",
    "            os.mkdir(folder_path + folder_splits[ratio.index(split)] + folder)\n",
    "        if ratio.index(split) == 0:\n",
    "            for class_folder, img_files in img_path_dict.items():\n",
    "                img_files = img_files[:int(len(img_files)*split)]  \n",
    "                names = [id for id in range((len(img_files)) * 7)]\n",
    "                random.shuffle(names)\n",
    "                save_generation(img_files=img_files, split='train/', folder_path=folder_path, class_folder=class_folder, names=names)\n",
    "        if ratio.index(split) == 1:\n",
    "            for class_folder, img_files in img_path_dict.items():\n",
    "                img_files = img_files[int(len(img_files)*ratio[0]):(int(len(img_files)*ratio[0])+int(len(img_files)*split))]                \n",
    "                names = [id for id in range((len(img_files)) * 7)]\n",
    "                random.shuffle(names)\n",
    "                save_generation(img_files=img_files, split='val/', folder_path=folder_path, class_folder=class_folder, names=names)\n",
    "        if ratio.index(split) == 2:\n",
    "            for class_folder, img_files in img_path_dict.items():\n",
    "                img_files = img_files[(int(len(img_files)*ratio[0])+(int(len(img_files)*ratio[1]))):]\n",
    "                names = [id for id in range((len(img_files)) * 7)]\n",
    "                random.shuffle(names)\n",
    "                save_generation(img_files=img_files, split='test/', folder_path=folder_path, class_folder=class_folder, names=names)"
   ]
  },
  {
   "cell_type": "code",
   "execution_count": 598,
   "metadata": {},
   "outputs": [],
   "source": [
    "class compile:\n",
    "    path = 'src/'\n",
    "    temp_file = 'temp/'\n",
    "    def __init__(self, class_encoding, ratio=[0.7,.2,.1], equal_ratio_to_healthy=False, shuffle=True, augment=1, random_file_name=True):\n",
    "        self.dataset_dir = fetch_imgs_path(self.path, class_encoding, equal_ratio_to_healthy, shuffle)\n",
    "        #to split_folders\n",
    "        to_split_folder(folder_path=self.temp_file, img_path_dict=self.dataset_dir, ratio=ratio, augment=augment)\n",
    "    \n",
    "    @property\n",
    "    def load(self):\n",
    "        return None"
   ]
  },
  {
   "cell_type": "code",
   "execution_count": 599,
   "metadata": {},
   "outputs": [],
   "source": [
    "b = compile(class_encoding='binary', ratio=[.7,.2,.1], equal_ratio_to_healthy=False, shuffle=True, augment=1, random_file_name=True)"
   ]
  },
  {
   "cell_type": "code",
   "execution_count": 572,
   "metadata": {},
   "outputs": [
    {
     "name": "stdout",
     "output_type": "stream",
     "text": [
      "unhealthy 3025\n",
      "healthy 1162\n"
     ]
    }
   ],
   "source": [
    "for keys, items  in b.dataset_dir.items():\n",
    "    print(keys, len(items))"
   ]
  },
  {
   "cell_type": "code",
   "execution_count": 603,
   "metadata": {},
   "outputs": [
    {
     "data": {
      "text/plain": [
       "198.85714285714286"
      ]
     },
     "execution_count": 603,
     "metadata": {},
     "output_type": "execute_result"
    }
   ],
   "source": [
    "int(1392/7)"
   ]
  }
 ],
 "metadata": {
  "interpreter": {
   "hash": "98e405e3c33e46e5613deb5ecb3f28fb2044318dee228b3e8a2385a0f7c0b2db"
  },
  "kernelspec": {
   "display_name": "Python 3 (ipykernel)",
   "language": "python",
   "name": "python3"
  },
  "language_info": {
   "codemirror_mode": {
    "name": "ipython",
    "version": 3
   },
   "file_extension": ".py",
   "mimetype": "text/x-python",
   "name": "python",
   "nbconvert_exporter": "python",
   "pygments_lexer": "ipython3",
   "version": "3.7.11"
  }
 },
 "nbformat": 4,
 "nbformat_minor": 2
}

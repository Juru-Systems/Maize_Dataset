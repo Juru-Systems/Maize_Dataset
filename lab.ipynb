{
 "cells": [
  {
   "cell_type": "code",
   "execution_count": 76,
   "metadata": {},
   "outputs": [],
   "source": [
    "import glob\n",
    "import cv2\n",
    "import os\n",
    "import random\n",
    "import matplotlib.pyplot as plt\n",
    "import numpy as np\n",
    "import tensorflow as tf\n",
    "import math"
   ]
  },
  {
   "cell_type": "code",
   "execution_count": 4,
   "metadata": {},
   "outputs": [],
   "source": [
    "#Nothing to see here"
   ]
  },
  {
   "cell_type": "code",
   "execution_count": 58,
   "metadata": {},
   "outputs": [],
   "source": [
    "class generate:\n",
    "    def batch_1(img):\n",
    "        \"\"\" Requires uint8 image dtype\"\"\"\n",
    "        images_arrays = []\n",
    "        images_arrays.append(generate.rotation(img, -90))\n",
    "        images_arrays.append(generate.rotation(img, 90))\n",
    "        images_arrays.append( generate.vertical_flip(img))\n",
    "        images_arrays.append(generate.high_brightness(img))\n",
    "        images_arrays.append(generate.low_brightness(img))\n",
    "        images_arrays.append( generate.sharpen(img))\n",
    "\n",
    "        return images_arrays\n",
    "\n",
    "    \n",
    "    def rotation(image,angle):\n",
    "        height, width = image.shape[:2]\n",
    "        rotation_matrix = cv2.getRotationMatrix2D((width/2, height/2), angle, scale=1)\n",
    "        rotated_image = cv2.warpAffine(image,rotation_matrix,(width,height))\n",
    "        return rotated_image\n",
    "\n",
    " \n",
    "    def vertical_flip(image):\n",
    "        return cv2.flip(image,0)\n",
    "    \n",
    "    def high_brightness(image):\n",
    "        return cv2.add(image, np.ones(image.shape , dtype=np.uint8) * 40)\n",
    "\n",
    "    def low_brightness(image):\n",
    "        return cv2.subtract(image, np.ones(image.shape , dtype=np.uint8) * 40)\n",
    "        \n",
    "\n",
    "    def sharpen(image):\n",
    "        kernel = np.array([ [-1,-1,-1],\n",
    "                            [-1,10,-1],\n",
    "                            [-1,-1,-1] ])\n",
    "        return cv2.filter2D(image,-1,kernel)"
   ]
  },
  {
   "cell_type": "code",
   "execution_count": 96,
   "metadata": {},
   "outputs": [],
   "source": [
    "class compile:\n",
    "    path = r'src/'\n",
    "    def __init__(self, classes='binary', resize_shape=(256, 256), normalise=True, load_equal_ratio=True, augmentation_stage=1):\n",
    "        self.fetch_imgs_paths()\n",
    "        if classes == 'binary':\n",
    "            self.data_x, self.data_y = self.load_binary_classes(resize_shape=resize_shape, normalise=normalise)\n",
    "        elif classes == 'all':\n",
    "            self.data_x, self.data_y = self.load_by_classes(resize_shape=resize_shape)\n",
    "        else :\n",
    "            return ValueError('Invalid class specification')\n",
    "        \n",
    "            \n",
    "       \n",
    "    @classmethod\n",
    "    def fetch_imgs_paths(self):\n",
    "        self.imgs_paths = {}\n",
    "        for class_folder in os.listdir(f'{self.path}'):\n",
    "            self.imgs_paths[f'{class_folder}'] = os.listdir(f'{self.path}{class_folder}')\n",
    "    \n",
    "    @staticmethod\n",
    "    def gen_pool(data_len,ratio=[0.7,.2,.1]):\n",
    "        pool = []\n",
    "        for index, partition in enumerate(ratio):\n",
    "            pool = pool + ([index] * math.floor( data_len * partition))\n",
    "            random.shuffle(pool)   \n",
    "        return pool\n",
    "    \n",
    "    @classmethod\n",
    "    def load_binary_classes(self, resize_shape, normalise, fetch_max_equal_ratio=True):\n",
    "        x_dataset, y_dataset = [], []\n",
    "        healthy_class_len = len(self.imgs_paths['healthy'])\n",
    "        class_sample_size = int(healthy_class_len / 3)\n",
    "        if fetch_max_equal_ratio:\n",
    "            for class_folder in self.imgs_paths:\n",
    "                if class_folder == 'healthy':\n",
    "                    for img_path in self.imgs_paths[class_folder]:\n",
    "                        position = random.randint(0, len(x_dataset))\n",
    "                        img_array = cv2.resize(cv2.imread(self.path + class_folder + '/' + img_path), resize_shape, interpolation = cv2.INTER_AREA)\n",
    "                        x_dataset.insert(position, img_array / 256.0 if normalise == True else img_array)\n",
    "                        y_dataset.insert(position, 0)\n",
    "                        for img in generate.batch_1(img_array):\n",
    "                            new_pos = random.randint(0, len(x_dataset))\n",
    "                            x_dataset.insert(new_pos, img / 256.0 if normalise == True else img_array)\n",
    "                            y_dataset.insert(new_pos, 0)\n",
    "                            \n",
    "                        \n",
    "                else:\n",
    "                    sample_pool = random.sample(self.imgs_paths[class_folder], class_sample_size)\n",
    "                    for img in sample_pool:\n",
    "                        position = random.randint(0, len(x_dataset))\n",
    "                        img_array = cv2.resize(cv2.imread(self.path + class_folder + '/' + img), resize_shape, interpolation=cv2.INTER_AREA)\n",
    "                        x_dataset.insert(position, img_array / 256.0 if normalise == True else img_array)\n",
    "                        y_dataset.insert(position, 1)\n",
    "                        for img in generate.batch_1(img_array):\n",
    "                            new_pos = random.randint(0, len(x_dataset))\n",
    "                            x_dataset.insert(new_pos, img / 256.0 if normalise == True else img_array)\n",
    "                            y_dataset.insert(new_pos, 1)\n",
    "                        \n",
    "                        \n",
    "        elif fetch_max_equal_ratio == False:\n",
    "            for class_folder in self.imgs_paths:\n",
    "                if class_folder == 'healthy':\n",
    "                    for img_path in self.imgs_paths[class_folder]:\n",
    "                        position = random.randint(0, len(x_dataset))\n",
    "                        img_array = cv2.resize(cv2.imread(self.path + class_folder + '/' + img_path), resize_shape, interpolation = cv2.INTER_AREA)\n",
    "                        img_array = img_array / 256 if normalise == True else img_array\n",
    "                        x_dataset.insert(position, img_array)\n",
    "                        y_dataset.insert(position, 0)\n",
    "                else:\n",
    "                    for img_path in self.imgs_paths[class_folder]:\n",
    "                        position = random.randint(0, len(x_dataset))\n",
    "                        img_array = cv2.resize(cv2.imread(self.path + class_folder + '/' + img_path), resize_shape, interpolation = cv2.INTER_AREA)\n",
    "                        img_array = img_array / 256 if normalise == True else img_array\n",
    "                        x_dataset.insert(position, img_array)\n",
    "                        y_dataset.insert(position, 1)\n",
    "                                                  \n",
    "        return x_dataset, y_dataset\n",
    "    \n",
    "    @classmethod\n",
    "    def load_all_classes(self, resize_shape, fetch_max_equal_ratio=True, normalise=256):\n",
    "        pass\n",
    "    @classmethod\n",
    "    def generator(self, data_x, data_y):\n",
    "        for index, img in enumerate(self.data_x):\n",
    "            for generic_img in generate.batch_1(img):\n",
    "                position = random.randint(0, len(self.data_x)) \n",
    "                data_x.insert(position,generic_img)\n",
    "                data_y.insert(position, self.data_y[index]) \n",
    "        return data_x, data_y\n",
    "    @property\n",
    "    def load(self, train_size=.7, test_size=.3):\n",
    "        if (train_size + test_size) == 1:\n",
    "            train_slice = int(len(self.x_dataset)/.7)\n",
    "            return self.x_dataset[:train_slice], self.y_dataset[:train_slice] , self.x_dataset[train_slice:], self.y_dataset[train_slice:]\n",
    "        elif (train_size + test_size) != 1:\n",
    "            return ValueError('Invalid Split Value') \n",
    "        \n",
    "    "
   ]
  },
  {
   "cell_type": "code",
   "execution_count": 59,
   "metadata": {},
   "outputs": [],
   "source": [
    "img = cv2.resize(cv2.imread('src/healthy/Corn_Health (1).jpg'), (256,256), interpolation=cv2.INTER_AREA)"
   ]
  },
  {
   "cell_type": "code",
   "execution_count": 60,
   "metadata": {},
   "outputs": [],
   "source": [
    "b =  generate.batch_1(img)"
   ]
  },
  {
   "cell_type": "code",
   "execution_count": 63,
   "metadata": {},
   "outputs": [],
   "source": [
    "b = [1,2,3,5,6,9]"
   ]
  },
  {
   "cell_type": "code",
   "execution_count": 65,
   "metadata": {},
   "outputs": [
    {
     "data": {
      "text/plain": [
       "3"
      ]
     },
     "execution_count": 65,
     "metadata": {},
     "output_type": "execute_result"
    }
   ],
   "source": [
    "b.pop(2)"
   ]
  },
  {
   "cell_type": "code",
   "execution_count": null,
   "metadata": {},
   "outputs": [],
   "source": [
    "def partition(dataset, part=[7,2,1]):\n",
    "    pool =  'n'\n",
    "    \n",
    "    "
   ]
  },
  {
   "cell_type": "code",
   "execution_count": 234,
   "metadata": {},
   "outputs": [],
   "source": [
    "b = {1 : [456,454], 4:[467,465]}"
   ]
  },
  {
   "cell_type": "code",
   "execution_count": 255,
   "metadata": {},
   "outputs": [
    {
     "name": "stdout",
     "output_type": "stream",
     "text": [
      "1 456\n",
      "4 467\n"
     ]
    }
   ],
   "source": [
    "for key, items in b.items():\n",
    "    print(key, items)"
   ]
  },
  {
   "cell_type": "code",
   "execution_count": 274,
   "metadata": {},
   "outputs": [],
   "source": [
    "def fetch_imgs_path(path, class_encoding, equal_ratio_to_healthy, shuffle):\n",
    "    class_folders = os.listdir(path)\n",
    "    imgs_path_dict = {}\n",
    "    for class_folder in class_folders:\n",
    "        files = [path + class_folder + '/' + file for file in os.listdir(path + class_folder + '/')]\n",
    "        if shuffle == True:\n",
    "            random.shuffle(files)\n",
    "        imgs_path_dict[str(class_folder)] = files\n",
    "    if class_encoding == 'binary':\n",
    "        temp_dict = {'unhealthy':[], 'healthy':[]}\n",
    "        if equal_ratio_to_healthy == True:\n",
    "            ratio = int(len(imgs_path_dict['healthy']) / (len(class_folders) - 1))\n",
    "            for folder, img_files  in imgs_path_dict.items():\n",
    "                if folder == 'healthy':\n",
    "                    temp_dict['healthy'] = random.sample(imgs_path_dict[folder], len(imgs_path_dict['healthy']))\n",
    "                else:\n",
    "                    temp_dict['unhealthy'] = temp_dict['unhealthy'] + random.sample(imgs_path_dict[folder], ratio)\n",
    "        \n",
    "            imgs_path_dict = temp_dict   \n",
    "            \n",
    "        else:\n",
    "            for class_folder in class_folder:\n",
    "                if class_folder == 'healthy':\n",
    "                    temp_dict['healthy'] = imgs_path_dict[class_folder]\n",
    "                else:\n",
    "                    temp_dict['unhealthy'] = imgs_path_dict[class_folder]\n",
    "            \n",
    "            imgs_path_dict = temp_dict\n",
    "            \n",
    "        \n",
    "    return imgs_path_dict"
   ]
  },
  {
   "cell_type": "code",
   "execution_count": 273,
   "metadata": {},
   "outputs": [
    {
     "ename": "TypeError",
     "evalue": "unsupported operand type(s) for +: 'NoneType' and 'list'",
     "output_type": "error",
     "traceback": [
      "\u001b[1;31m---------------------------------------------------------------------------\u001b[0m",
      "\u001b[1;31mTypeError\u001b[0m                                 Traceback (most recent call last)",
      "\u001b[1;32m~\\AppData\\Local\\Temp/ipykernel_7908/1230763600.py\u001b[0m in \u001b[0;36m<module>\u001b[1;34m\u001b[0m\n\u001b[1;32m----> 1\u001b[1;33m \u001b[0mcurl\u001b[0m \u001b[1;33m=\u001b[0m \u001b[0mfetch_imgs_path\u001b[0m\u001b[1;33m(\u001b[0m\u001b[0mpath\u001b[0m\u001b[1;33m=\u001b[0m\u001b[1;34m'src/'\u001b[0m\u001b[1;33m,\u001b[0m\u001b[0mclass_encoding\u001b[0m\u001b[1;33m=\u001b[0m\u001b[1;34m'binary'\u001b[0m\u001b[1;33m,\u001b[0m \u001b[0mequal_ratio_to_healthy\u001b[0m\u001b[1;33m=\u001b[0m\u001b[1;32mTrue\u001b[0m\u001b[1;33m,\u001b[0m \u001b[0mshuffle\u001b[0m\u001b[1;33m=\u001b[0m\u001b[1;32mTrue\u001b[0m\u001b[1;33m)\u001b[0m\u001b[1;33m\u001b[0m\u001b[1;33m\u001b[0m\u001b[0m\n\u001b[0m",
      "\u001b[1;32m~\\AppData\\Local\\Temp/ipykernel_7908/3527587491.py\u001b[0m in \u001b[0;36mfetch_imgs_path\u001b[1;34m(path, class_encoding, equal_ratio_to_healthy, shuffle)\u001b[0m\n\u001b[0;32m     15\u001b[0m                     \u001b[0mtemp_dict\u001b[0m\u001b[1;33m[\u001b[0m\u001b[1;34m'healthy'\u001b[0m\u001b[1;33m]\u001b[0m \u001b[1;33m=\u001b[0m \u001b[0mrandom\u001b[0m\u001b[1;33m.\u001b[0m\u001b[0msample\u001b[0m\u001b[1;33m(\u001b[0m\u001b[0mimgs_path_dict\u001b[0m\u001b[1;33m[\u001b[0m\u001b[0mfolder\u001b[0m\u001b[1;33m]\u001b[0m\u001b[1;33m,\u001b[0m \u001b[0mlen\u001b[0m\u001b[1;33m(\u001b[0m\u001b[0mimgs_path_dict\u001b[0m\u001b[1;33m[\u001b[0m\u001b[1;34m'healthy'\u001b[0m\u001b[1;33m]\u001b[0m\u001b[1;33m)\u001b[0m\u001b[1;33m)\u001b[0m\u001b[1;33m\u001b[0m\u001b[1;33m\u001b[0m\u001b[0m\n\u001b[0;32m     16\u001b[0m                 \u001b[1;32melse\u001b[0m\u001b[1;33m:\u001b[0m\u001b[1;33m\u001b[0m\u001b[1;33m\u001b[0m\u001b[0m\n\u001b[1;32m---> 17\u001b[1;33m                     \u001b[0mtemp_dict\u001b[0m\u001b[1;33m[\u001b[0m\u001b[1;34m'unhealthy'\u001b[0m\u001b[1;33m]\u001b[0m \u001b[1;33m=\u001b[0m \u001b[0mtemp_dict\u001b[0m\u001b[1;33m[\u001b[0m\u001b[1;34m'unhealthy'\u001b[0m\u001b[1;33m]\u001b[0m \u001b[1;33m+\u001b[0m \u001b[0mrandom\u001b[0m\u001b[1;33m.\u001b[0m\u001b[0msample\u001b[0m\u001b[1;33m(\u001b[0m\u001b[0mimgs_path_dict\u001b[0m\u001b[1;33m[\u001b[0m\u001b[0mfolder\u001b[0m\u001b[1;33m]\u001b[0m\u001b[1;33m,\u001b[0m \u001b[0mratio\u001b[0m\u001b[1;33m)\u001b[0m\u001b[1;33m\u001b[0m\u001b[1;33m\u001b[0m\u001b[0m\n\u001b[0m\u001b[0;32m     18\u001b[0m \u001b[1;33m\u001b[0m\u001b[0m\n\u001b[0;32m     19\u001b[0m             \u001b[0mimgs_path_dict\u001b[0m \u001b[1;33m=\u001b[0m \u001b[0mtemp_dict\u001b[0m\u001b[1;33m\u001b[0m\u001b[1;33m\u001b[0m\u001b[0m\n",
      "\u001b[1;31mTypeError\u001b[0m: unsupported operand type(s) for +: 'NoneType' and 'list'"
     ]
    }
   ],
   "source": [
    "curl = fetch_imgs_path(path='src/',class_encoding='binary', equal_ratio_to_healthy=True, shuffle=True)"
   ]
  },
  {
   "cell_type": "code",
   "execution_count": 268,
   "metadata": {},
   "outputs": [
    {
     "name": "stdout",
     "output_type": "stream",
     "text": [
      "unhealthy 387\n",
      "healthy 1162\n"
     ]
    }
   ],
   "source": [
    "for key, items in curl.items():\n",
    "    print(key, len(items))"
   ]
  },
  {
   "cell_type": "code",
   "execution_count": 248,
   "metadata": {},
   "outputs": [],
   "source": [
    "del fetch_imgs_path"
   ]
  }
 ],
 "metadata": {
  "interpreter": {
   "hash": "98e405e3c33e46e5613deb5ecb3f28fb2044318dee228b3e8a2385a0f7c0b2db"
  },
  "kernelspec": {
   "display_name": "Python 3 (ipykernel)",
   "language": "python",
   "name": "python3"
  },
  "language_info": {
   "codemirror_mode": {
    "name": "ipython",
    "version": 3
   },
   "file_extension": ".py",
   "mimetype": "text/x-python",
   "name": "python",
   "nbconvert_exporter": "python",
   "pygments_lexer": "ipython3",
   "version": "3.7.11"
  }
 },
 "nbformat": 4,
 "nbformat_minor": 2
}

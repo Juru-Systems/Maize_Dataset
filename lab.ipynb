{
 "cells": [
  {
   "cell_type": "code",
   "execution_count": 10,
   "metadata": {},
   "outputs": [],
   "source": [
    "import glob\n",
    "import cv2\n",
    "import os\n",
    "import random\n",
    "import matplotlib.pyplot as plt\n",
    "import numpy as np"
   ]
  },
  {
   "cell_type": "code",
   "execution_count": 4,
   "metadata": {},
   "outputs": [],
   "source": [
    "#Nothing to see here"
   ]
  },
  {
   "cell_type": "code",
   "execution_count": 48,
   "metadata": {},
   "outputs": [],
   "source": [
    "class generate:\n",
    "    def batch_1(img):\n",
    "        images_arrays = []\n",
    "        \"\"\"Image arrays format is in list arrays\"\"\"\n",
    "        images_arrays.insert(random.randint(0,len(images_arrays)), generate.rotation(img, -90))\n",
    "        images_arrays.insert(random.randint(0,len(images_arrays)), generate.rotation(img, 90))\n",
    "        images_arrays.insert(random.randint(0,len(images_arrays)), generate.vertical_flip(img))\n",
    "        images_arrays.insert(random.randint(0,len(images_arrays)), generate.high_brightness(img))\n",
    "        images_arrays.insert(random.randint(0,len(images_arrays)), generate.low_brightness(img))\n",
    "        images_arrays.insert(random.randint(0,len(images_arrays)), generate.sharpen(img))\n",
    "\n",
    "        return images_arrays\n",
    "\n",
    "    \n",
    "    def rotation(image,angle):\n",
    "        height, width = image.shape[:2]\n",
    "        rotation_matrix = cv2.getRotationMatrix2D((width/2, height/2), angle, scale=1)\n",
    "        rotated_image = cv2.warpAffine(image,rotation_matrix,(width,height))\n",
    "        return rotated_image\n",
    "\n",
    " \n",
    "    def vertical_flip(image):\n",
    "        return cv2.flip(image,0)\n",
    "    \n",
    "    def high_brightness(image):\n",
    "        return cv2.add(image, np.ones(image.shape , dtype=np.float64) * .3)\n",
    "\n",
    "    def low_brightness(image):\n",
    "        return cv2.add(image, np.ones(image.shape , dtype=np.float64) * -.3)\n",
    "\n",
    "    def sharpen(image):\n",
    "        kernel = np.array([ [-1,-1,-1],\n",
    "                            [-1,10,-1],\n",
    "                            [-1,-1,-1] ])\n",
    "        return cv2.filter2D(image,-1,kernel)"
   ]
  },
  {
   "cell_type": "code",
   "execution_count": 72,
   "metadata": {},
   "outputs": [],
   "source": [
    "class compile:\n",
    "    path = r'src/'\n",
    "    def __init__(self, classes='binary', resize_shape=(256, 256), normalise=True, load_equal_ratio=True, augmentation_stage=1):\n",
    "        self.fetch_imgs_paths()\n",
    "        if classes == 'binary':\n",
    "            self.data_x, self.data_y = self.load_binary_classes(resize_shape=resize_shape, normalise=normalise)\n",
    "        elif classes == 'all':\n",
    "            self.data_x, self.data_y = self.load_by_classes(resize_shape=resize_shape)\n",
    "        else :\n",
    "            return ValueError('Invalid class specification')\n",
    "        \n",
    "        if augmentation_stage > 0:\n",
    "            self.generator(self.data_x, self.data_y)\n",
    "            \n",
    "       \n",
    "    @classmethod\n",
    "    def fetch_imgs_paths(self):\n",
    "        self.imgs_paths = {}\n",
    "        for class_folder in os.listdir(f'{self.path}'):\n",
    "            self.imgs_paths[f'{class_folder}'] = os.listdir(f'{self.path}{class_folder}/')\n",
    "    \n",
    "    @classmethod\n",
    "    def load_binary_classes(self, resize_shape, normalise, fetch_max_equal_ratio=True):\n",
    "        x_dataset, y_dataset = [], []\n",
    "        healthy_class_len = len(self.imgs_paths['healthy'])\n",
    "        class_sample_size = int(healthy_class_len / 3)\n",
    "        if fetch_max_equal_ratio:\n",
    "            for class_folder in self.imgs_paths:\n",
    "                if class_folder == 'healthy':\n",
    "                    for img_path in self.imgs_paths[class_folder]:\n",
    "                        position = random.randint(0, len(x_dataset))\n",
    "                        img_array = cv2.resize(cv2.imread(self.path + class_folder + '/' + img_path), resize_shape, interpolation = cv2.INTER_AREA)\n",
    "                        img_array = img_array / 256 if normalise == True else img_array\n",
    "                        x_dataset.insert(position, img_array)\n",
    "                        y_dataset.insert(position, 0)\n",
    "                else:\n",
    "                    sample_pool = random.sample(self.imgs_paths[class_folder], class_sample_size)\n",
    "                    for img in sample_pool:\n",
    "                        position = random.randint(0, len(x_dataset))\n",
    "                        img_array = cv2.resize(cv2.imread(self.path + class_folder + '/' + img), resize_shape, interpolation=cv2.INTER_AREA)\n",
    "                        img_array = img_array / 256 if normalise == True else img_array\n",
    "                        x_dataset.insert(position, img_array)\n",
    "                        y_dataset.insert(position, 1)\n",
    "                        \n",
    "                        \n",
    "        elif fetch_max_equal_ratio == False:\n",
    "            for class_folder in self.imgs_paths:\n",
    "                if class_folder == 'healthy':\n",
    "                    for img_path in self.imgs_paths[class_folder]:\n",
    "                        position = random.randint(0, len(x_dataset))\n",
    "                        img_array = cv2.resize(cv2.imread(self.path + class_folder + '/' + img_path), resize_shape, interpolation = cv2.INTER_AREA)\n",
    "                        img_array = img_array / 256 if normalise == True else img_array\n",
    "                        x_dataset.insert(position, img_array)\n",
    "                        y_dataset.insert(position, 0)\n",
    "                else:\n",
    "                    for img_path in self.imgs_paths[class_folder]:\n",
    "                        position = random.randint(0, len(x_dataset))\n",
    "                        img_array = cv2.resize(cv2.imread(self.path + class_folder + '/' + img_path), resize_shape, interpolation = cv2.INTER_AREA)\n",
    "                        img_array = img_array / 256 if normalise == True else img_array\n",
    "                        x_dataset.insert(position, img_array)\n",
    "                        y_dataset.insert(position, 1)\n",
    "                                                  \n",
    "        return x_dataset, y_dataset\n",
    "    \n",
    "    @classmethod\n",
    "    def load_all_classes(self, resize_shape, fetch_max_equal_ratio=True, normalise=256):\n",
    "        pass\n",
    "    @classmethod\n",
    "    def generator(self, data_x, data_y):\n",
    "        for index, img in enumerate(self.data_x):\n",
    "            for generic_img in batch_1(img):\n",
    "                position = random.randint(0, len(self.data_x)) \n",
    "                data_x.insert(position,generic_img)\n",
    "                data_y.insert(position, self.data_y[index]) \n",
    "        return data_x, data_y\n",
    "    @property\n",
    "    def load(self, train_size=.7, test_size=.3):\n",
    "        if (train_size + test_size) == 1:\n",
    "            train_slice = int(len(self.x_dataset)/.7)\n",
    "            return self.x_dataset[:train_slice], self.y_dataset[:train_slice] , self.x_dataset[train_slice:], self.y_dataset[train_slice:]\n",
    "        elif (train_size + test_size) != 1:\n",
    "            return ValueError('Invalid Split Value') \n",
    "        \n",
    "    "
   ]
  },
  {
   "cell_type": "code",
   "execution_count": null,
   "metadata": {},
   "outputs": [],
   "source": [
    "dataset = compile()"
   ]
  },
  {
   "cell_type": "code",
   "execution_count": 32,
   "metadata": {},
   "outputs": [
    {
     "data": {
      "text/plain": [
       "0.2734375"
      ]
     },
     "execution_count": 32,
     "metadata": {},
     "output_type": "execute_result"
    }
   ],
   "source": []
  }
 ],
 "metadata": {
  "interpreter": {
   "hash": "98e405e3c33e46e5613deb5ecb3f28fb2044318dee228b3e8a2385a0f7c0b2db"
  },
  "kernelspec": {
   "display_name": "Python 3 (ipykernel)",
   "language": "python",
   "name": "python3"
  },
  "language_info": {
   "codemirror_mode": {
    "name": "ipython",
    "version": 3
   },
   "file_extension": ".py",
   "mimetype": "text/x-python",
   "name": "python",
   "nbconvert_exporter": "python",
   "pygments_lexer": "ipython3",
   "version": "3.7.11"
  }
 },
 "nbformat": 4,
 "nbformat_minor": 2
}
